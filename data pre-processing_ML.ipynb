{
  "nbformat": 4,
  "nbformat_minor": 0,
  "metadata": {
    "colab": {
      "provenance": [],
      "authorship_tag": "ABX9TyNunMS3Su26iWS/gfovT3CT",
      "include_colab_link": true
    },
    "kernelspec": {
      "name": "python3",
      "display_name": "Python 3"
    },
    "language_info": {
      "name": "python"
    }
  },
  "cells": [
    {
      "cell_type": "markdown",
      "metadata": {
        "id": "view-in-github",
        "colab_type": "text"
      },
      "source": [
        "<a href=\"https://colab.research.google.com/github/uudeymangali/ADS-Assignment/blob/main/data%20pre-processing_ML.ipynb\" target=\"_parent\"><img src=\"https://colab.research.google.com/assets/colab-badge.svg\" alt=\"Open In Colab\"/></a>"
      ]
    },
    {
      "cell_type": "code",
      "execution_count": null,
      "metadata": {
        "id": "FUJkJZFuMeDa"
      },
      "outputs": [],
      "source": [
        "import cv2\n",
        "import numpy as np\n",
        "import tensorflow as tf\n",
        "import os\n",
        "import matplotlib.pyplot as plt\n",
        "from tensorflow import keras\n",
        "from imutils import paths\n",
        "from tensorflow.keras.utils import to_categorical\n",
        "from sklearn.preprocessing import LabelBinarizer\n",
        "from sklearn.model_selection import train_test_split\n",
        "from tensorflow.keras.preprocessing import image\n",
        "from tensorflow.keras.models import Sequential\n",
        "from tensorflow.keras.layers import Dense,Activation,Flatten,Dropout\n",
        "from tensorflow.keras.layers import Conv2D,MaxPooling2D\n",
        "from tensorflow.keras.optimizers import Adam\n",
        "from tensorflow.keras.preprocessing.image import ImageDataGenerator\n",
        "from tensorflow.keras.preprocessing.image import load_img , img_to_array\n",
        "from PIL import Image\n",
        "from tensorflow.keras.applications.mobilenet_v2 import preprocess_input\n",
        "import glob"
      ]
    },
    {
      "cell_type": "code",
      "source": [
        "from google.colab import drive\n",
        "df = drive.mount('/content/drive')"
      ],
      "metadata": {
        "id": "AECBm7aiMisr"
      },
      "execution_count": null,
      "outputs": []
    },
    {
      "cell_type": "code",
      "source": [
        "Fake=[]\n",
        "for name1 in glob.glob ('/content/drive/My Drive/APOD_Train/Fake/*'):\n",
        "  Fake.append(name1)"
      ],
      "metadata": {
        "id": "uRnp9YpSSfjs"
      },
      "execution_count": null,
      "outputs": []
    },
    {
      "cell_type": "code",
      "source": [
        "Real=[]\n",
        "for name2 in glob.glob ('/content/drive/My Drive/APOD_Train/Real/*'):\n",
        "  Real.append(name2)"
      ],
      "metadata": {
        "id": "Ig_nmD59OP1h"
      },
      "execution_count": null,
      "outputs": []
    },
    {
      "cell_type": "code",
      "source": [
        "Fake1=[]\n",
        "for name1 in glob.glob ('/content/drive/My Drive/APOD_Valid/Fake/*'):\n",
        "  Fake1.append(name1)"
      ],
      "metadata": {
        "id": "OT_L3E9COXxl"
      },
      "execution_count": null,
      "outputs": []
    },
    {
      "cell_type": "code",
      "source": [
        "Real1=[]\n",
        "for name1 in glob.glob ('/content/drive/My Drive/APOD_Valid/Real/*'):\n",
        "  Real1.append(name1)"
      ],
      "metadata": {
        "id": "3BreesbjOgTr"
      },
      "execution_count": null,
      "outputs": []
    },
    {
      "cell_type": "code",
      "source": [
        "files=Fake+Real+Fake1+Real1"
      ],
      "metadata": {
        "id": "v_qrot9WOpSs"
      },
      "execution_count": null,
      "outputs": []
    },
    {
      "cell_type": "code",
      "source": [
        "files"
      ],
      "metadata": {
        "id": "nHE-0i6pOuQ7"
      },
      "execution_count": null,
      "outputs": []
    },
    {
      "cell_type": "code",
      "source": [
        "filename =[str(f.split(\"/\")[6]) for f in files]\n",
        "filename"
      ],
      "metadata": {
        "id": "idU3B7PKO2_e"
      },
      "execution_count": null,
      "outputs": []
    },
    {
      "cell_type": "code",
      "source": [
        "label =[str(f.split(\"/\")[5]) for f in files]\n",
        "label"
      ],
      "metadata": {
        "id": "fZ6FHXKGO9PA"
      },
      "execution_count": null,
      "outputs": []
    },
    {
      "cell_type": "code",
      "source": [
        "folder =[str(f.split(\"/\")[0])+\"/\"+str(f.split(\"/\")[1])+\"/\"+str(f.split(\"/\")[2])+\"/\"+str(f.split(\"/\")[3])+\"/\"+str(f.split(\"/\")[4])+\"/\"+str(f.split(\"/\")[5]) for f in files]\n",
        "folder"
      ],
      "metadata": {
        "id": "lfrxt725PBtv"
      },
      "execution_count": null,
      "outputs": []
    },
    {
      "cell_type": "code",
      "source": [
        "import pandas as pd\n",
        "df=pd.DataFrame()"
      ],
      "metadata": {
        "id": "EH57BHUmS4BV"
      },
      "execution_count": null,
      "outputs": []
    },
    {
      "cell_type": "code",
      "source": [
        "df[\"Folder\"]=folder\n",
        "df[\"File\"]=filename\n",
        "df[\"Label\"]=label"
      ],
      "metadata": {
        "id": "guY-rVW4S87Z"
      },
      "execution_count": null,
      "outputs": []
    },
    {
      "cell_type": "code",
      "source": [
        "df.head()"
      ],
      "metadata": {
        "id": "fFYjniMwPJUc"
      },
      "execution_count": null,
      "outputs": []
    },
    {
      "cell_type": "code",
      "source": [
        "from sklearn.model_selection import train_test_split"
      ],
      "metadata": {
        "id": "5xMl6Kf0PPnD"
      },
      "execution_count": null,
      "outputs": []
    },
    {
      "cell_type": "code",
      "source": [
        "train, test = train_test_split(df, stratify= df[\"Label\"], test_size= 0.2)\n",
        "train1=train.reset_index()\n",
        "test1=test.reset_index()\n",
        "train2 = train1.drop(['index'] , axis=1)\n",
        "test2 = test1.drop(['index'] , axis=1)"
      ],
      "metadata": {
        "id": "lwSA3GUcPTgR"
      },
      "execution_count": null,
      "outputs": []
    },
    {
      "cell_type": "code",
      "source": [
        "train2.info"
      ],
      "metadata": {
        "id": "dFDRJpY4PYp9"
      },
      "execution_count": null,
      "outputs": []
    },
    {
      "cell_type": "code",
      "source": [
        "IMG_SIZE= 200"
      ],
      "metadata": {
        "id": "C3AhmEDbPew2"
      },
      "execution_count": null,
      "outputs": []
    },
    {
      "cell_type": "code",
      "source": [
        "df1= train2"
      ],
      "metadata": {
        "id": "E8Z1bXA2Pkwb"
      },
      "execution_count": null,
      "outputs": []
    },
    {
      "cell_type": "code",
      "source": [
        "x_train=[]\n",
        "y_train=[]\n",
        "for t in range(len(df1)):\n",
        "    folder = df1[\"Folder\"][t]\n",
        "    file1 = df1[\"File\"][t]\n",
        "    image = cv2.imread(os.path.join(folder, file1),cv2.IMREAD_GRAYSCALE)  \n",
        "    image = cv2.resize(image, (IMG_SIZE, IMG_SIZE))\n",
        "    image = image/255.0\n",
        "    image = image.reshape(-1,IMG_SIZE,IMG_SIZE,1)\n",
        "    image = image.reshape(image.shape[1], image.shape[2])\n",
        "    if t % 500 == 0:\n",
        "        print(t)\n",
        "    x_train.append(image)\n",
        "    y_train.append(df1[\"Label\"][t])"
      ],
      "metadata": {
        "id": "ymwO6pwwPs7F"
      },
      "execution_count": null,
      "outputs": []
    },
    {
      "cell_type": "code",
      "source": [
        "x_train = np.array(x_train)\n",
        "print(\"x_train done\")\n",
        "y_train = np.array(pd.get_dummies(y_train), dtype= np.uint8)"
      ],
      "metadata": {
        "id": "mKxZWl5XP2ot"
      },
      "execution_count": null,
      "outputs": []
    },
    {
      "cell_type": "code",
      "source": [
        "x_train = x_train.reshape(-1,IMG_SIZE,IMG_SIZE, 1)"
      ],
      "metadata": {
        "id": "agtloyycP837"
      },
      "execution_count": null,
      "outputs": []
    },
    {
      "cell_type": "code",
      "source": [
        "df2=test2"
      ],
      "metadata": {
        "id": "tVv1VnFCQTgH"
      },
      "execution_count": null,
      "outputs": []
    },
    {
      "cell_type": "code",
      "source": [
        "x_test=[]\n",
        "y_test=[]\n",
        "for t in range(len(df2)):\n",
        "    folder = df2[\"Folder\"][t]\n",
        "    file1= df2[\"File\"][t]\n",
        "    image = cv2.imread(os.path.join(folder, file1),cv2.IMREAD_GRAYSCALE) \n",
        "    image = cv2.resize(image, (IMG_SIZE, IMG_SIZE))\n",
        "    image = image/255.0\n",
        "    image = image.reshape(1,IMG_SIZE,IMG_SIZE,1) \n",
        "    image = image.reshape(image.shape[1], image.shape[2])\n",
        "    if t % 100 == 0:\n",
        "        print(t)\n",
        "    x_test.append(image)\n",
        "    y_test.append(df2[\"Label\"][t])"
      ],
      "metadata": {
        "id": "19S6dw33Qz3e"
      },
      "execution_count": null,
      "outputs": []
    },
    {
      "cell_type": "code",
      "source": [
        "x_test = np.array(x_test)\n",
        "print(\"x_test done\")\n",
        "y_test = np.array(pd.get_dummies(y_test), dtype= np.uint8)"
      ],
      "metadata": {
        "id": "Ak6V7EnTQ_FN"
      },
      "execution_count": null,
      "outputs": []
    },
    {
      "cell_type": "code",
      "source": [
        "x_test = x_test.reshape(-1,IMG_SIZE,IMG_SIZE, 1)"
      ],
      "metadata": {
        "id": "PAdcIjQ0RDPG"
      },
      "execution_count": null,
      "outputs": []
    },
    {
      "cell_type": "code",
      "source": [
        "x_train.shape"
      ],
      "metadata": {
        "id": "fMlrfkRoRHAg"
      },
      "execution_count": null,
      "outputs": []
    }
  ]
}